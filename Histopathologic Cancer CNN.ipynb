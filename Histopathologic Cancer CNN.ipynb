{
 "cells": [
  {
   "cell_type": "markdown",
   "id": "582b7e4a-e289-417a-a996-ed8d359c2ad9",
   "metadata": {},
   "source": [
    "## Histopathologic Cancer CNN Notebook"
   ]
  },
  {
   "cell_type": "markdown",
   "id": "681eb396-1694-4761-a0cc-738735b16db1",
   "metadata": {},
   "source": [
    "### Section 1: Problem and Data Description"
   ]
  },
  {
   "cell_type": "markdown",
   "id": "1558ff4c-b1e8-49a2-96dd-06ea43cb14d5",
   "metadata": {},
   "source": [
    "This is a binary image classification problem where you will identify metastatic cancer in small image patches taken from larger digital pathology scans.\n",
    "\n",
    "The task is to classify histopathologic scans of lymph node sections as containing metastatic cancer (label=1) or not (label=0). The dataset consists of:\n",
    "- **Training images**: ~220,000 labeled .tif images, 96x96 pixels, RGB\n",
    "- **Test images**: ~57,000 unlabeled images\n",
    "- **Labels file**: CSV file mapping image IDs to labels\n",
    "\n",
    "The goal is to build a CNN model to predict the presence of cancer in unseen images, evaluated on a classification metrics. specifically Submissions are evaluated on area under the ROC curve between the predicted probability and the observed target.\n",
    "\n"
   ]
  },
  {
   "cell_type": "markdown",
   "id": "d86ba768-9e07-4fa0-9fdf-84425c270ed2",
   "metadata": {},
   "source": [
    "### Exploratory Data Analysis (EDA) — Inspect, Visualize and Clean the Data\n",
    "\n",
    "Show a few visualizations like histograms. Describe any data cleaning procedures. Based on your EDA, what is your plan of analysis? "
   ]
  },
  {
   "cell_type": "markdown",
   "id": "efe34ba5-1ea1-43b0-8b7c-37821ae451d0",
   "metadata": {},
   "source": [
    "#### Import Statements and Setup"
   ]
  },
  {
   "cell_type": "code",
   "execution_count": 1,
   "id": "ee346ba8-2ac8-4808-949d-e554520d33bd",
   "metadata": {},
   "outputs": [
    {
     "name": "stderr",
     "output_type": "stream",
     "text": [
      "2025-10-14 21:45:53.539830: I tensorflow/core/platform/cpu_feature_guard.cc:193] This TensorFlow binary is optimized with oneAPI Deep Neural Network Library (oneDNN) to use the following CPU instructions in performance-critical operations:  SSE4.1 SSE4.2 AVX AVX2 AVX512F FMA\n",
      "To enable them in other operations, rebuild TensorFlow with the appropriate compiler flags.\n"
     ]
    }
   ],
   "source": [
    "import os\n",
    "import random\n",
    "from pathlib import Path\n",
    "\n",
    "import numpy as np\n",
    "import pandas as pd\n",
    "import matplotlib.pyplot as plt\n",
    "from PIL import Image\n",
    "\n",
    "import tensorflow as tf\n",
    "from tensorflow import keras\n",
    "from tensorflow.keras import layers\n",
    "\n",
    "SEED = 42\n",
    "random.seed(SEED)\n",
    "np.random.seed(SEED)\n",
    "tf.random.set_seed(SEED)"
   ]
  },
  {
   "cell_type": "code",
   "execution_count": 2,
   "id": "125befb8-2b74-4787-9419-958ba173fc17",
   "metadata": {},
   "outputs": [],
   "source": [
    "DATA_DIR = Path('input')\n",
    "TRAIN_DIR = './train'\n",
    "TEST_DIR = './test'\n",
    "LABELS_CSV = './train_labels.csv'\n",
    "\n",
    "labels = pd.read_csv(LABELS_CSV)"
   ]
  },
  {
   "cell_type": "markdown",
   "id": "47346d2b-4db8-404f-bc2b-9744a1ff6eef",
   "metadata": {},
   "source": [
    "#### Analysis of Class Distribution"
   ]
  },
  {
   "cell_type": "code",
   "execution_count": 3,
   "id": "f634166a-5f2b-4419-8f8b-1509c14715e6",
   "metadata": {},
   "outputs": [
    {
     "data": {
      "image/png": "[encoded data removed]",
      "text/plain": [
       "<Figure size 600x400 with 1 Axes>"
      ]
     },
     "metadata": {},
     "output_type": "display_data"
    }
   ],
   "source": [
    "plt.figure(figsize=(6,4))\n",
    "labels['label'].value_counts().plot(kind='bar')\n",
    "plt.title('Class Distribution')\n",
    "plt.xlabel('Label')\n",
    "plt.ylabel('Count')\n",
    "plt.show()\n"
   ]
  },
  {
   "cell_type": "markdown",
   "id": "2337d8ce-d252-46bb-ae48-da90aa8fe3da",
   "metadata": {},
   "source": [
    "We can see that there's a slight imbalance between the positive(1) and negative(0) labels, because they are not exactly evenly distributed, but overall the data appears to be balanced enough that we might not have to adjust for this."
   ]
  },
  {
   "cell_type": "markdown",
   "id": "4a6b08a3-41da-4ee2-88a2-d54cfe5c448f",
   "metadata": {},
   "source": [
    "#### Sampling a few of the images for analysis"
   ]
  },
  {
   "cell_type": "code",
   "execution_count": 6,
   "id": "6c55c8d7-a00f-4fb1-be1d-df8bd36ffe63",
   "metadata": {},
   "outputs": [
    {
     "name": "stdout",
     "output_type": "stream",
     "text": [
      "img_path = ./train/d293308913e4a40cebb809d986aa9add65a76bfa.tif\n"
     ]
    },
    {
     "ename": "FileNotFoundError",
     "evalue": "[Errno 2] No such file or directory: './train/d293308913e4a40cebb809d986aa9add65a76bfa.tif'",
     "output_type": "error",
     "traceback": [
      "\u001b[0;31m---------------------------------------------------------------------------\u001b[0m",
      "\u001b[0;31mFileNotFoundError\u001b[0m                         Traceback (most recent call last)",
      "Cell \u001b[0;32mIn[6], line 12\u001b[0m\n\u001b[1;32m     10\u001b[0m img_path \u001b[38;5;241m=\u001b[39m \u001b[38;5;124m\"\u001b[39m\u001b[38;5;124m./train/\u001b[39m\u001b[38;5;124m\"\u001b[39m\u001b[38;5;241m+\u001b[39mimg_id\u001b[38;5;241m+\u001b[39m\u001b[38;5;124m'\u001b[39m\u001b[38;5;124m.tif\u001b[39m\u001b[38;5;124m'\u001b[39m\n\u001b[1;32m     11\u001b[0m \u001b[38;5;28mprint\u001b[39m(\u001b[38;5;124m\"\u001b[39m\u001b[38;5;124mimg_path = \u001b[39m\u001b[38;5;124m\"\u001b[39m\u001b[38;5;241m+\u001b[39mimg_path)\n\u001b[0;32m---> 12\u001b[0m img \u001b[38;5;241m=\u001b[39m \u001b[43mImage\u001b[49m\u001b[38;5;241;43m.\u001b[39;49m\u001b[43mopen\u001b[49m\u001b[43m(\u001b[49m\u001b[43mimg_path\u001b[49m\u001b[43m)\u001b[49m\n\u001b[1;32m     13\u001b[0m plt\u001b[38;5;241m.\u001b[39msubplot(\u001b[38;5;241m2\u001b[39m,\u001b[38;5;241m3\u001b[39m,i\u001b[38;5;241m+\u001b[39m\u001b[38;5;241m1\u001b[39m)\n\u001b[1;32m     14\u001b[0m plt\u001b[38;5;241m.\u001b[39mimshow(img)\n",
      "File \u001b[0;32m/opt/conda/envs/anaconda-ai-2024.04-py310/lib/python3.10/site-packages/PIL/Image.py:3247\u001b[0m, in \u001b[0;36mopen\u001b[0;34m(fp, mode, formats)\u001b[0m\n\u001b[1;32m   3244\u001b[0m     filename \u001b[38;5;241m=\u001b[39m fp\n\u001b[1;32m   3246\u001b[0m \u001b[38;5;28;01mif\u001b[39;00m filename:\n\u001b[0;32m-> 3247\u001b[0m     fp \u001b[38;5;241m=\u001b[39m \u001b[43mbuiltins\u001b[49m\u001b[38;5;241;43m.\u001b[39;49m\u001b[43mopen\u001b[49m\u001b[43m(\u001b[49m\u001b[43mfilename\u001b[49m\u001b[43m,\u001b[49m\u001b[43m \u001b[49m\u001b[38;5;124;43m\"\u001b[39;49m\u001b[38;5;124;43mrb\u001b[39;49m\u001b[38;5;124;43m\"\u001b[39;49m\u001b[43m)\u001b[49m\n\u001b[1;32m   3248\u001b[0m     exclusive_fp \u001b[38;5;241m=\u001b[39m \u001b[38;5;28;01mTrue\u001b[39;00m\n\u001b[1;32m   3250\u001b[0m \u001b[38;5;28;01mtry\u001b[39;00m:\n",
      "\u001b[0;31mFileNotFoundError\u001b[0m: [Errno 2] No such file or directory: './train/d293308913e4a40cebb809d986aa9add65a76bfa.tif'"
     ]
    },
    {
     "data": {
      "text/plain": [
       "<Figure size 1200x600 with 0 Axes>"
      ]
     },
     "metadata": {},
     "output_type": "display_data"
    }
   ],
   "source": [
    "sample_ids = labels.sample(6, random_state=SEED)['id'].tolist()\n",
    "plt.figure(figsize=(12,6))\n",
    "\n",
    "# testpath = './train/0a4d72220c0d4e0555c2d3e396208d7f262f48f9.tif'\n",
    "# print(\"test path is: \"+testpath)\n",
    "# img = Image.open(testpath)\n",
    "\n",
    "\n",
    "for i, img_id in enumerate(sample_ids):\n",
    "    img_path = \"./train/\"+img_id+'.tif'\n",
    "    print(\"img_path = \"+img_path)\n",
    "    img = Image.open(img_path)\n",
    "    plt.subplot(2,3,i+1)\n",
    "    plt.imshow(img)\n",
    "    plt.axis('off')\n",
    "plt.suptitle('Sample Images')\n",
    "plt.show()"
   ]
  },
  {
   "cell_type": "code",
   "execution_count": null,
   "id": "4819ea49-4f6e-4ea3-928c-f4b48dac4ca4",
   "metadata": {},
   "outputs": [],
   "source": [
    "#### Shape of data"
   ]
  },
  {
   "cell_type": "markdown",
   "id": "63df5915-91c5-4044-924b-418873062191",
   "metadata": {},
   "source": [
    "#### EDA conclusion:\n",
    "- Classes are balanced enough to begin modelling without needing to correct for imbalances for now. If model performance suffers, it might be work correcting for this in the next iteration (i.e. extrapolate to create a labelled dataset where num(labels=1) == num(labels=2).\n",
    "- Dimensions\n",
    "- Sample images are"
   ]
  },
  {
   "cell_type": "markdown",
   "id": "c173c24f-f786-4c5f-b583-c67a93b19474",
   "metadata": {},
   "source": [
    "### Section 3: Model Architecture"
   ]
  },
  {
   "cell_type": "markdown",
   "id": "db322173-84ae-4d5a-bf09-e639e8471506",
   "metadata": {},
   "source": [
    "##### Justification of model choice:\n",
    "\n",
    "Rationale:\n",
    "\n",
    "- Multiple convolutional layers capture spatial features (i.e. edges, colour gradient within the first layer or so, but then working deeper into determining tissue irregularities, etc, in further layers.)\n",
    "- MaxPooling reduces dimensionality, which contradicts above, but might make this model easier to run on my local machine, and may reduce noise.\n",
    "- Dropout prevents expected overfitting due to the small image sizes, and potentially the lack of variability in the images.\n",
    "- Simple CNNs tend to suit small images and smaller classification tasks (binary)\n"
   ]
  },
  {
   "cell_type": "code",
   "execution_count": null,
   "id": "363cdea4-5912-4cf4-9112-102341a712ae",
   "metadata": {},
   "outputs": [],
   "source": [
    "input_shape = (96,96,3)\n",
    "from tensorflow.keras.models import Sequential\n",
    "from tensorflow.keras.layers import Conv2D, MaxPooling2D, Flatten, Dense, Dropout, BatchNormalization\n",
    "\n",
    "# Simple CNN model\n",
    "model = Sequential([\n",
    "    Conv2D(32, (3,3), activation='relu', input_shape=input_shape),\n",
    "    MaxPooling2D((2,2)),\n",
    "    BatchNormalization(),\n",
    "    \n",
    "    Conv2D(64, (3,3), activation='relu'),\n",
    "    MaxPooling2D((2,2)),\n",
    "    BatchNormalization(),\n",
    "    \n",
    "    Conv2D(128, (3,3), activation='relu'),\n",
    "    MaxPooling2D((2,2)),\n",
    "    BatchNormalization(),\n",
    "    \n",
    "    Flatten(),\n",
    "    Dense(128, activation='relu'),\n",
    "    Dropout(0.5),\n",
    "    Dense(1, activation='sigmoid')\n",
    "])\n",
    "\n",
    "model.compile(optimizer='adam', loss='binary_crossentropy', metrics=['accuracy'])\n",
    "model.summary()"
   ]
  },
  {
   "cell_type": "markdown",
   "id": "982b191c-c16b-4938-9adb-a61bbb3fcca2",
   "metadata": {},
   "source": [
    "### Section 4: Results and Analysis"
   ]
  },
  {
   "cell_type": "code",
   "execution_count": null,
   "id": "106f1eec-d0c5-43cc-b95f-c05cec14bcac",
   "metadata": {},
   "outputs": [],
   "source": [
    "# Data augmentation\n",
    "#I'm only estimating a bit here, based on results we can tweak a bit.\n",
    "from tensorflow.keras.preprocessing.image import ImageDataGenerator\n",
    "\n",
    "datagen = ImageDataGenerator(\n",
    "    rescale=1./255,\n",
    "    rotation_range=20,\n",
    "    width_shift_range=0.2,\n",
    "    height_shift_range=0.2,\n",
    "    horizontal_flip=True,\n",
    "    validation_split=0.2\n",
    ")\n",
    "\n",
    "#change dtype of y_col to string\n",
    "labels[\"label_str\"] = labels[\"label\"].astype('str')\n",
    "labels['id_filename'] = labels['id'] + '.tif'\n",
    "\n",
    "train_generator = datagen.flow_from_dataframe(\n",
    "    dataframe=labels,\n",
    "    directory='./train',\n",
    "    x_col='id_filename',\n",
    "    y_col='label_str',\n",
    "    subset='training',\n",
    "    batch_size=32, #change this to experiment with batch_sizing\n",
    "    seed=SEED,\n",
    "    shuffle=True,\n",
    "    class_mode='binary',\n",
    "    target_size=(96,96),\n",
    "    color_mode='rgb'\n",
    ")\n",
    "\n",
    "\n",
    "val_generator = datagen.flow_from_dataframe(\n",
    "    dataframe=labels,\n",
    "    directory='./train',\n",
    "    x_col='id_filename',\n",
    "    y_col='label_str',\n",
    "    subset='validation',\n",
    "    batch_size=32,\n",
    "    seed=SEED,\n",
    "    shuffle=False,\n",
    "    class_mode='binary',\n",
    "    target_size=(96,96),\n",
    "    color_mode='rgb'\n",
    ")\n",
    "\n",
    "# Training\n",
    "#Let's experiment a bit with the number of epochs, as it'll take forever locally otherwise.\n",
    "#Medium number of epochs is probably better for the purposes of this dataset?\n",
    "history = model.fit(\n",
    "    train_generator,\n",
    "    validation_data=val_generator,\n",
    "    epochs=3 # This training is extremely slow on my machine, so we have to go smaller than I'd like.\n",
    ")"
   ]
  },
  {
   "cell_type": "code",
   "execution_count": null,
   "id": "424cfd05-44e2-4efe-9243-c4125bdab751",
   "metadata": {},
   "outputs": [],
   "source": []
  }
 ],
 "metadata": {
  "kernelspec": {
   "display_name": "anaconda-ai-2024.04-py310",
   "language": "python",
   "name": "conda-env-anaconda-ai-2024.04-py310-py"
  },
  "language_info": {
   "codemirror_mode": {
    "name": "ipython",
    "version": 3
   },
   "file_extension": ".py",
   "mimetype": "text/x-python",
   "name": "python",
   "nbconvert_exporter": "python",
   "pygments_lexer": "ipython3",
   "version": "3.10.13"
  }
 },
 "nbformat": 4,
 "nbformat_minor": 5
}
